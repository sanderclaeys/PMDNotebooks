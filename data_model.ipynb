{
 "cells": [
  {
   "cell_type": "markdown",
   "metadata": {},
   "source": [
    "The new data model currently lives in the branch `data-model`. You will have to install that version of PMD, which you can do by executing the code below."
   ]
  },
  {
   "cell_type": "code",
   "execution_count": 1,
   "metadata": {},
   "outputs": [
    {
     "name": "stdout",
     "output_type": "stream",
     "text": [
      "\u001b[32m\u001b[1m  Updating\u001b[22m\u001b[39m registry at `~/.julia/registries/General`\n",
      "\u001b[32m\u001b[1m  Updating\u001b[22m\u001b[39m git-repo `https://github.com/JuliaRegistries/General.git`\n",
      "\u001b[?25l\u001b[2K\u001b[?25h\u001b[32m\u001b[1m  Updating\u001b[22m\u001b[39m git-repo `/Users/sclaeys/code/PowerModelsDistribution.jl`\n",
      "\u001b[?25l\u001b[2K\u001b[?25h\u001b[32m\u001b[1m Resolving\u001b[22m\u001b[39m package versions...\n",
      "\u001b[32m\u001b[1m  Updating\u001b[22m\u001b[39m `~/.julia/environments/v1.0/Project.toml`\n",
      "\u001b[90m [no changes]\u001b[39m\n",
      "\u001b[32m\u001b[1m  Updating\u001b[22m\u001b[39m `~/.julia/environments/v1.0/Manifest.toml`\n",
      "\u001b[90m [no changes]\u001b[39m\n"
     ]
    }
   ],
   "source": [
    "]add /Users/sclaeys/code/PowerModelsDistribution.jl#data-model"
   ]
  },
  {
   "cell_type": "code",
   "execution_count": 2,
   "metadata": {},
   "outputs": [
    {
     "name": "stderr",
     "output_type": "stream",
     "text": [
      "┌ Info: Recompiling stale cache file /Users/sclaeys/.julia/compiled/v1.0/PowerModelsDistribution/utAoY.ji for PowerModelsDistribution [d7431456-977f-11e9-2de3-97ff7677985e]\n",
      "└ @ Base loading.jl:1190\n",
      "WARNING: Method definition _sc2br_impedance(Any) in module PowerModelsDistribution at /Users/sclaeys/.julia/packages/PowerModelsDistribution/exrJq/src/io/opendss.jl:879 overwritten at /Users/sclaeys/.julia/packages/PowerModelsDistribution/exrJq/src/core/data_model_mapping.jl:239.\n",
      "┌ Warning: Replacing docs for `PowerModelsDistribution._sc2br_impedance :: Tuple{Any}` in module `PowerModelsDistribution`\n",
      "└ @ Base.Docs docs/Docs.jl:223\n"
     ]
    }
   ],
   "source": [
    "using PowerModelsDistribution"
   ]
  },
  {
   "cell_type": "markdown",
   "metadata": {},
   "source": [
    "Before, you could import data from one of three sources:\n",
    "- OpenDSS input files\n",
    "- balanced matpower .m files, converted to unbalanced by PMs utilities\n",
    "- unbalanced .m files, custom extension of the matpower format\n",
    "\n",
    "We decided to drop support for the matpower extension. Instead, we decided to add a high-level, user-friendly data model directly in PMD. The OpenDSS parser will be updated to parse to this high-level data format. Furthermore, we defined a lot of utility functions which allow you to build your case study step-by-step, much like you can do it in OpenDSS.\n",
    "\n",
    "## Build your own case"
   ]
  },
  {
   "cell_type": "markdown",
   "metadata": {},
   "source": [
    "Start by creating an empty data model. For now this is still a regular Dict, but it might be wrapped in a struct in the future."
   ]
  },
  {
   "cell_type": "code",
   "execution_count": 48,
   "metadata": {},
   "outputs": [
    {
     "data": {
      "text/plain": [
       "Dict{String,Any} with 1 entry:\n",
       "  \"v_var_scalar\" => 1000.0"
      ]
     },
     "execution_count": 48,
     "metadata": {},
     "output_type": "execute_result"
    }
   ],
   "source": [
    "data_model = create_data_model()"
   ]
  },
  {
   "cell_type": "markdown",
   "metadata": {},
   "source": [
    "First, we will add a voltage source to our network. Each component can be added by a similar syntax. First, you pass the data model you want to add the component to, and then you specify the properties of that component through keywords arguments. \n",
    "- **id**: This is an identifier for the component you create, which must be unique amongst components of the same type. This will be the key for the component dictionaries at the high-level (both for the data model and the solutions). The id can be anything (as in any type) you want, but if you want to save it as a json file, Strings or Integers are recommended.\n",
    "\n",
    "Most values are entered in SI units (TODO: explain the scalar thing)."
   ]
  },
  {
   "cell_type": "markdown",
   "metadata": {},
   "source": [
    "### Buses, linecodes and lines"
   ]
  },
  {
   "cell_type": "code",
   "execution_count": 49,
   "metadata": {},
   "outputs": [
    {
     "data": {
      "text/plain": [
       "Dict{String,Any} with 6 entries:\n",
       "  \"rg\"        => Float64[]\n",
       "  \"grounded\"  => Any[]\n",
       "  \"status\"    => 1\n",
       "  \"terminals\" => Symbol[:a, :b, :c, :n]\n",
       "  \"id\"        => :loadbus\n",
       "  \"xg\"        => Float64[]"
      ]
     },
     "execution_count": 49,
     "metadata": {},
     "output_type": "execute_result"
    }
   ],
   "source": [
    "add_bus!(data_model, id=:sourcebus, terminals=[:a, :b, :c, :n])\n",
    "add_bus!(data_model, id=:loadbus,   terminals=[:a, :b, :c, :n])"
   ]
  },
  {
   "cell_type": "code",
   "execution_count": 50,
   "metadata": {},
   "outputs": [
    {
     "data": {
      "text/plain": [
       "Dict{String,Any} with 6 entries:\n",
       "  \"va\"          => [0.0, -2.0944, 2.0944, 0.0]\n",
       "  \"status\"      => 1\n",
       "  \"connections\" => [1, 2, 3]\n",
       "  \"id\"          => :source\n",
       "  \"vm\"          => [0.23, 0.23, 0.23, 0.0]\n",
       "  \"bus\"         => :sourcebus"
      ]
     },
     "execution_count": 50,
     "metadata": {},
     "output_type": "execute_result"
    }
   ],
   "source": [
    "add_voltage_source!(data_model, id=:source, bus=:sourcebus, vm=[0.23, 0.23, 0.23, 0], va=[0, -2*pi/3, 2*pi/3, 0])"
   ]
  },
  {
   "cell_type": "code",
   "execution_count": 51,
   "metadata": {},
   "outputs": [
    {
     "data": {
      "text/plain": [
       "Dict{String,Any} with 7 entries:\n",
       "  \"b_fr\" => [0.0 0.0 0.0; 0.0 0.0 0.0; 0.0 0.0 0.0]\n",
       "  \"rs\"   => [1.0 1.0 1.0; 1.0 1.0 1.0; 1.0 1.0 1.0]\n",
       "  \"id\"   => :lc_3w\n",
       "  \"xs\"   => [1.0 1.0 1.0; 1.0 1.0 1.0; 1.0 1.0 1.0]\n",
       "  \"g_to\" => [0.0 0.0 0.0; 0.0 0.0 0.0; 0.0 0.0 0.0]\n",
       "  \"b_to\" => [0.0 0.0 0.0; 0.0 0.0 0.0; 0.0 0.0 0.0]\n",
       "  \"g_fr\" => [0.0 0.0 0.0; 0.0 0.0 0.0; 0.0 0.0 0.0]"
      ]
     },
     "execution_count": 51,
     "metadata": {},
     "output_type": "execute_result"
    }
   ],
   "source": [
    "add_linecode!(data_model, id=:lc_3w, rs=ones(3,3), xs=ones(3,3))"
   ]
  },
  {
   "cell_type": "code",
   "execution_count": 52,
   "metadata": {},
   "outputs": [
    {
     "data": {
      "text/plain": [
       "Dict{String,Any} with 10 entries:\n",
       "  \"length\"        => 1.2\n",
       "  \"t_connections\" => Symbol[:a, :b, :c]\n",
       "  \"f_bus\"         => :sourcebus\n",
       "  \"angmin\"        => [-1.0472, -1.0472, -1.0472]\n",
       "  \"status\"        => 1\n",
       "  \"angmax\"        => [1.0472, 1.0472, 1.0472]\n",
       "  \"id\"            => :line1\n",
       "  \"linecode\"      => :lc_3w\n",
       "  \"t_bus\"         => :loadbus\n",
       "  \"f_connections\" => Symbol[:a, :b, :c]"
      ]
     },
     "execution_count": 52,
     "metadata": {},
     "output_type": "execute_result"
    }
   ],
   "source": [
    "add_line!(data_model, id=:line1, linecode=:lc_3w, length=1.2, \n",
    "    f_bus=:sourcebus, f_connections=[:a, :b, :c], t_bus=:loadbus, t_connections=[:a, :b, :c],\n",
    ")"
   ]
  },
  {
   "cell_type": "markdown",
   "metadata": {},
   "source": [
    "### Loads"
   ]
  },
  {
   "cell_type": "code",
   "execution_count": 53,
   "metadata": {},
   "outputs": [
    {
     "data": {
      "text/plain": [
       "Dict{String,Any} with 8 entries:\n",
       "  \"status\"        => 1\n",
       "  \"model\"         => \"constant_power\"\n",
       "  \"connections\"   => Symbol[:a, :b, :n]\n",
       "  \"id\"            => :cp_y_2ph\n",
       "  \"qd\"            => [0.0, 0.0, 0.0]\n",
       "  \"bus\"           => :loadbus\n",
       "  \"pd\"            => [0.1, 0.2]\n",
       "  \"configuration\" => \"wye\""
      ]
     },
     "execution_count": 53,
     "metadata": {},
     "output_type": "execute_result"
    }
   ],
   "source": [
    "add_load!(data_model, id=:cp_y_2ph, pd=[0.1, 0.2], \n",
    "    bus=:loadbus, connections=[:a, :b, :n]\n",
    ")"
   ]
  },
  {
   "cell_type": "code",
   "execution_count": 54,
   "metadata": {},
   "outputs": [
    {
     "data": {
      "text/plain": [
       "Dict{String,Any} with 8 entries:\n",
       "  \"status\"        => 1\n",
       "  \"model\"         => \"constant_power\"\n",
       "  \"connections\"   => Symbol[:a, :b, :c]\n",
       "  \"id\"            => :cp_d_3ph\n",
       "  \"qd\"            => [0.0, 0.0, 0.0]\n",
       "  \"bus\"           => :loadbus\n",
       "  \"pd\"            => [0.1, 0.2, 0.3]\n",
       "  \"configuration\" => \"delta\""
      ]
     },
     "execution_count": 54,
     "metadata": {},
     "output_type": "execute_result"
    }
   ],
   "source": [
    "add_load!(data_model, id=:cp_d_3ph, pd=[0.1, 0.2, 0.3], \n",
    "    bus=:loadbus, configuration=\"delta\", connections=[:a, :b, :c]\n",
    ")"
   ]
  },
  {
   "cell_type": "code",
   "execution_count": 55,
   "metadata": {},
   "outputs": [
    {
     "data": {
      "text/plain": [
       "Dict{String,Any} with 9 entries:\n",
       "  \"vnom\"          => 0.398372\n",
       "  \"status\"        => 1\n",
       "  \"model\"         => \"constant_current\"\n",
       "  \"connections\"   => Symbol[:a, :b, :c]\n",
       "  \"qd_ref\"        => [0.0, 0.0, 0.0]\n",
       "  \"pd_ref\"        => [0.1, 0.2, 0.3]\n",
       "  \"id\"            => :cc_d_3ph\n",
       "  \"bus\"           => :loadbus\n",
       "  \"configuration\" => \"delta\""
      ]
     },
     "execution_count": 55,
     "metadata": {},
     "output_type": "execute_result"
    }
   ],
   "source": [
    "add_load!(data_model, id=:cc_d_3ph, model=\"constant_current\", pd_ref=[0.1, 0.2, 0.3], vnom=0.230*sqrt(3),\n",
    "    bus=:loadbus, configuration=\"delta\", connections=[:a, :b, :c]\n",
    ")"
   ]
  },
  {
   "cell_type": "markdown",
   "metadata": {},
   "source": [
    "Finally, we can check whether the data model is consistent. There are many built in checks to keep you from making mistakes. For example, it will check that\n",
    "- all buses and terminals you used are actually defined;\n",
    "- all required data model properties are present;\n",
    "- all properties you have defined have the right type (real, boolean, array, ...);\n",
    "- arrays and vectors have the right size (the length of the `connections` property usually implies the 'right' size);\n",
    "- more specialized checks at the component level.\n",
    "\n",
    "When you execute the following, these checks will print a descriptive error message if something is wrong. You can try this out by going back and entering something inconsistent, i.e. connecting a load to an undefined bus.\n"
   ]
  },
  {
   "cell_type": "code",
   "execution_count": null,
   "metadata": {},
   "outputs": [],
   "source": [
    "check_data_model(data_model)"
   ]
  }
 ],
 "metadata": {
  "kernelspec": {
   "display_name": "Julia 1.0.5",
   "language": "julia",
   "name": "julia-1.0"
  },
  "language_info": {
   "file_extension": ".jl",
   "mimetype": "application/julia",
   "name": "julia",
   "version": "1.0.5"
  }
 },
 "nbformat": 4,
 "nbformat_minor": 4
}

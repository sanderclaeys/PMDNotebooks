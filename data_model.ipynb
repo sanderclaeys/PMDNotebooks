{
 "cells": [
  {
   "cell_type": "markdown",
   "metadata": {},
   "source": [
    "# Data model\n",
    "## Installation\n",
    "\n",
    "The new data model currently lives in the branch `data-model`. You will have to install that version of PMD, which you can do by executing the code below."
   ]
  },
  {
   "cell_type": "code",
   "execution_count": 2,
   "metadata": {},
   "outputs": [],
   "source": [
    "]add /Users/sclaeys/code/PowerModelsDistribution.jl#data-model"
   ]
  },
  {
   "cell_type": "code",
   "execution_count": null,
   "metadata": {},
   "outputs": [],
   "source": [
    "using PowerModelsDistribution"
   ]
  },
  {
   "cell_type": "markdown",
   "metadata": {},
   "source": [
    "Before, you could import data from one of three sources:\n",
    "- OpenDSS input files\n",
    "- balanced matpower .m files, converted to unbalanced by PMs utilities\n",
    "- unbalanced .m files, custom extension of the matpower format\n",
    "\n",
    "We decided to drop support for the matpower extension. Instead, we decided to add a high-level, user-friendly data model directly in PMD. The OpenDSS parser will be updated to parse to this high-level data format. Furthermore, we defined a lot of utility functions which allow you to build your case study step-by-step, much like you can do it in OpenDSS.\n",
    "\n",
    "## Build your own case"
   ]
  },
  {
   "cell_type": "markdown",
   "metadata": {},
   "source": [
    "Start by creating an empty data model. For now this is still a regular Dict, but it might be wrapped in a struct in the future."
   ]
  },
  {
   "cell_type": "code",
   "execution_count": 17,
   "metadata": {},
   "outputs": [
    {
     "data": {
      "text/plain": [
       "Dict{String,Any} with 1 entry:\n",
       "  \"v_var_scalar\" => 1000.0"
      ]
     },
     "execution_count": 17,
     "metadata": {},
     "output_type": "execute_result"
    }
   ],
   "source": [
    "data_model = create_data_model()"
   ]
  },
  {
   "cell_type": "markdown",
   "metadata": {},
   "source": [
    "First, we will add a voltage source to our network. Each component can be added by a similar syntax. First, you pass the data model you want to add the component to, and then you specify the properties of that component through keywords arguments. \n",
    "- **id**: This is an identifier for the component you create, which must be unique amongst components of the same type. This will be the key for the component dictionaries at the high-level (both for the data model and the solutions). The id can be anything (as in any type) you want, but if you want to save it as a json file, Strings or Integers are recommended.\n",
    "\n",
    "Most values are entered in SI units (TODO: explain the scalar thing)."
   ]
  },
  {
   "cell_type": "markdown",
   "metadata": {},
   "source": [
    "### Buses, voltage sources, linecodes and lines"
   ]
  },
  {
   "cell_type": "code",
   "execution_count": 18,
   "metadata": {},
   "outputs": [
    {
     "data": {
      "text/plain": [
       "Dict{String,Any} with 6 entries:\n",
       "  \"rg\"        => Float64[]\n",
       "  \"grounded\"  => Any[]\n",
       "  \"status\"    => 1\n",
       "  \"terminals\" => Symbol[:a, :b, :c, :n]\n",
       "  \"id\"        => :loadbus\n",
       "  \"xg\"        => Float64[]"
      ]
     },
     "execution_count": 18,
     "metadata": {},
     "output_type": "execute_result"
    }
   ],
   "source": [
    "add_bus!(data_model, id=:sourcebus, terminals=[:a, :b, :c, :n])\n",
    "add_bus!(data_model, id=:loadbus,   terminals=[:a, :b, :c, :n])"
   ]
  },
  {
   "cell_type": "code",
   "execution_count": 19,
   "metadata": {},
   "outputs": [
    {
     "data": {
      "text/plain": [
       "Dict{String,Any} with 6 entries:\n",
       "  \"va\"          => [0.0, -2.0944, 2.0944, 0.0]\n",
       "  \"status\"      => 1\n",
       "  \"connections\" => Symbol[:a, :b, :c, :n]\n",
       "  \"id\"          => :source\n",
       "  \"vm\"          => [0.23, 0.23, 0.23, 0.0]\n",
       "  \"bus\"         => :sourcebus"
      ]
     },
     "execution_count": 19,
     "metadata": {},
     "output_type": "execute_result"
    }
   ],
   "source": [
    "add_voltage_source!(data_model, id=:source, vm=[0.23, 0.23, 0.23, 0], va=[0, -2*pi/3, 2*pi/3, 0],\n",
    "    bus=:sourcebus, connections=[:a, :b, :c, :n]\n",
    ")"
   ]
  },
  {
   "cell_type": "code",
   "execution_count": 20,
   "metadata": {},
   "outputs": [
    {
     "data": {
      "text/plain": [
       "Dict{String,Any} with 7 entries:\n",
       "  \"b_fr\" => [0.0 0.0 0.0; 0.0 0.0 0.0; 0.0 0.0 0.0]\n",
       "  \"rs\"   => [1.0 1.0 1.0; 1.0 1.0 1.0; 1.0 1.0 1.0]\n",
       "  \"id\"   => :lc_3w\n",
       "  \"xs\"   => [1.0 1.0 1.0; 1.0 1.0 1.0; 1.0 1.0 1.0]\n",
       "  \"g_to\" => [0.0 0.0 0.0; 0.0 0.0 0.0; 0.0 0.0 0.0]\n",
       "  \"b_to\" => [0.0 0.0 0.0; 0.0 0.0 0.0; 0.0 0.0 0.0]\n",
       "  \"g_fr\" => [0.0 0.0 0.0; 0.0 0.0 0.0; 0.0 0.0 0.0]"
      ]
     },
     "execution_count": 20,
     "metadata": {},
     "output_type": "execute_result"
    }
   ],
   "source": [
    "add_linecode!(data_model, id=:lc_3w, rs=ones(3,3), xs=ones(3,3))"
   ]
  },
  {
   "cell_type": "code",
   "execution_count": 21,
   "metadata": {},
   "outputs": [
    {
     "data": {
      "text/plain": [
       "Dict{String,Any} with 10 entries:\n",
       "  \"length\"        => 1.2\n",
       "  \"t_connections\" => Symbol[:a, :b, :c]\n",
       "  \"f_bus\"         => :sourcebus\n",
       "  \"angmin\"        => [-1.0472, -1.0472, -1.0472]\n",
       "  \"status\"        => 1\n",
       "  \"angmax\"        => [1.0472, 1.0472, 1.0472]\n",
       "  \"id\"            => :line1\n",
       "  \"linecode\"      => :lc_3w\n",
       "  \"t_bus\"         => :loadbus\n",
       "  \"f_connections\" => Symbol[:a, :b, :c]"
      ]
     },
     "execution_count": 21,
     "metadata": {},
     "output_type": "execute_result"
    }
   ],
   "source": [
    "add_line!(data_model, id=:line1, linecode=:lc_3w, length=1.2, \n",
    "    f_bus=:sourcebus, f_connections=[:a, :b, :c], t_bus=:loadbus, t_connections=[:a, :b, :c],\n",
    ")"
   ]
  },
  {
   "cell_type": "markdown",
   "metadata": {},
   "source": [
    "### Transformer"
   ]
  },
  {
   "cell_type": "markdown",
   "metadata": {},
   "source": [
    "First, we add a bus for the secondary of the transformer to connect to (you can also do this after creating the transformer, as long as you add it before checking the data model).\n",
    "We start with a two-winding, three-phase, lossless, delta-wye transformer."
   ]
  },
  {
   "cell_type": "code",
   "execution_count": 22,
   "metadata": {},
   "outputs": [
    {
     "data": {
      "text/plain": [
       "Dict{String,Any} with 16 entries:\n",
       "  \"polarity\"      => Bool[true, true]\n",
       "  \"connections\"   => Array{Symbol,1}[[:a, :b, :c, :n], [:a, :b, :c]]\n",
       "  \"tm_min\"        => Array{Float64,1}[[0.9, 0.9, 0.9], [0.9, 0.9, 0.9]]\n",
       "  \"tm_step\"       => Array{Float64,1}[[0.03125, 0.03125, 0.03125], [0.03125, 0.…\n",
       "  \"bus\"           => Symbol[:loadbus, :tr1_sec]\n",
       "  \"configuration\" => [\"wye\", \"delta\"]\n",
       "  \"status\"        => 1\n",
       "  \"id\"            => :tr1\n",
       "  \"noloadloss\"    => 0.0\n",
       "  \"xsc\"           => [0.0, 0.0]\n",
       "  \"tm_fix\"        => Array{Bool,1}[[true, true, true], [true, true, true]]\n",
       "  \"tm\"            => Array{Float64,1}[[1.0, 1.0, 1.0], [1.0, 1.0, 1.0]]\n",
       "  \"tm_max\"        => Array{Float64,1}[[1.1, 1.1, 1.1], [1.1, 1.1, 1.1]]\n",
       "  \"rs\"            => [0.0, 0.0]\n",
       "  \"imag\"          => 0.0\n",
       "  \"vnom\"          => [0.23, 0.115, 0.115]"
      ]
     },
     "execution_count": 22,
     "metadata": {},
     "output_type": "execute_result"
    }
   ],
   "source": [
    "add_bus!(data_model, id=:tr_sec,   terminals=[:a, :b, :c, :n], grounded=[:n], rg=[0.0], xg=[0.0])\n",
    "add_transformer_nw!(data_model, id=:tr1,\n",
    "    bus=[:loadbus, :tr1_sec], configuration=[\"wye\", \"delta\"], connections=[[:a, :b, :c, :n], [:a, :b, :c]],\n",
    "    vnom=[0.230, 0.230/2, 0.230/2]\n",
    ")"
   ]
  },
  {
   "cell_type": "markdown",
   "metadata": {},
   "source": [
    "Next, we define a lossy split-phase transformer. Note that this can be seen as a single-phase, three-winding transformer with the appropriate parameters. In the future, we might define a component especially for split-phase transformers, so you do not have to map this manually."
   ]
  },
  {
   "cell_type": "code",
   "execution_count": 23,
   "metadata": {},
   "outputs": [
    {
     "data": {
      "text/plain": [
       "Dict{String,Any} with 17 entries:\n",
       "  \"polarity\"      => Bool[true, true, true]\n",
       "  \"connections\"   => Array{Symbol,1}[[:a, :b], [:a, :n], [:n, :b]]\n",
       "  \"tm_min\"        => Array{Float64,1}[[0.9, 0.9, 0.9], [0.9, 0.9, 0.9], [0.9, 0…\n",
       "  \"tm_step\"       => Array{Float64,1}[[0.03125, 0.03125, 0.03125], [0.03125, 0.…\n",
       "  \"bus\"           => Symbol[:loadbus, :split_sec, :split_sec]\n",
       "  \"configuration\" => [\"wye\", \"wye\", \"wye\"]\n",
       "  \"status\"        => 1\n",
       "  \"id\"            => :split\n",
       "  \"noloadloss\"    => 0.0\n",
       "  \"xsc\"           => [0.02, 0.01, 0.01]\n",
       "  \"snom\"          => [2, 1, 1]\n",
       "  \"tm_fix\"        => Array{Bool,1}[[true, true, true], [true, true, true], [tru…\n",
       "  \"tm\"            => Array{Float64,1}[[1.0, 1.0, 1.0], [1.0, 1.0, 1.0], [1.0, 1…\n",
       "  \"tm_max\"        => Array{Float64,1}[[1.1, 1.1, 1.1], [1.1, 1.1, 1.1], [1.1, 1…\n",
       "  \"rs\"            => [0.02, 0.01, 0.01]\n",
       "  \"imag\"          => 0.0\n",
       "  \"vnom\"          => [0.23, 0.115, 0.115]"
      ]
     },
     "execution_count": 23,
     "metadata": {},
     "output_type": "execute_result"
    }
   ],
   "source": [
    "add_bus!(data_model, id=:split_sec,   terminals=[:a, :b, :n], grounded=[:n], rg=[0.0], xg=[0.0])\n",
    "add_transformer_nw!(data_model, id=:split,\n",
    "    bus=[:loadbus, :split_sec, :split_sec], configuration=[\"wye\", \"wye\", \"wye\"], connections=[[:a, :b], [:a, :n], [:n, :b]],\n",
    "    vnom=[0.230, 0.230/2, 0.230/2], snom=[2, 1, 1],\n",
    "    rs=[0.02, 0.01, 0.01],\n",
    "    xsc=[0.02, 0.01, 0.01]\n",
    ")"
   ]
  },
  {
   "cell_type": "markdown",
   "metadata": {},
   "source": [
    "### Loads"
   ]
  },
  {
   "cell_type": "markdown",
   "metadata": {},
   "source": [
    "A load's voltage-dependency defaults to `model=\"constant_power\"`, in which case you can specify its behaviour with `pd` and `qd`."
   ]
  },
  {
   "cell_type": "code",
   "execution_count": 24,
   "metadata": {},
   "outputs": [
    {
     "data": {
      "text/plain": [
       "Dict{String,Any} with 8 entries:\n",
       "  \"status\"        => 1\n",
       "  \"model\"         => \"constant_power\"\n",
       "  \"connections\"   => Symbol[:a, :b, :n]\n",
       "  \"id\"            => :cp_y_2ph\n",
       "  \"qd\"            => [0.0, 0.0, 0.0]\n",
       "  \"bus\"           => :loadbus\n",
       "  \"pd\"            => [0.1, 0.2]\n",
       "  \"configuration\" => \"wye\""
      ]
     },
     "execution_count": 24,
     "metadata": {},
     "output_type": "execute_result"
    }
   ],
   "source": [
    "add_load!(data_model, id=:cp_y_2ph, pd=[0.1, 0.2], \n",
    "    bus=:loadbus, connections=[:a, :b, :n]\n",
    ")"
   ]
  },
  {
   "cell_type": "markdown",
   "metadata": {},
   "source": [
    "A load can also be delta-connected."
   ]
  },
  {
   "cell_type": "code",
   "execution_count": 25,
   "metadata": {},
   "outputs": [
    {
     "data": {
      "text/plain": [
       "Dict{String,Any} with 8 entries:\n",
       "  \"status\"        => 1\n",
       "  \"model\"         => \"constant_power\"\n",
       "  \"connections\"   => Symbol[:a, :b, :c]\n",
       "  \"id\"            => :cp_d_3ph\n",
       "  \"qd\"            => [0.0, 0.0, 0.0]\n",
       "  \"bus\"           => :loadbus\n",
       "  \"pd\"            => [0.1, 0.2, 0.3]\n",
       "  \"configuration\" => \"delta\""
      ]
     },
     "execution_count": 25,
     "metadata": {},
     "output_type": "execute_result"
    }
   ],
   "source": [
    "add_load!(data_model, id=:cp_d_3ph, pd=[0.1, 0.2, 0.3], \n",
    "    bus=:loadbus, configuration=\"delta\", connections=[:a, :b, :c]\n",
    ")"
   ]
  },
  {
   "cell_type": "markdown",
   "metadata": {},
   "source": [
    "Besides `constant_power`, other options are `constant_current`, `constant_impedance` and `exponential`.\n",
    "For those options, you specify `pd_ref` and `qd_ref`, \n",
    "which will be obtained when the applied voltage is equal to the one specified by `vnom`."
   ]
  },
  {
   "cell_type": "code",
   "execution_count": 26,
   "metadata": {},
   "outputs": [
    {
     "data": {
      "text/plain": [
       "Dict{String,Any} with 9 entries:\n",
       "  \"vnom\"          => 0.398372\n",
       "  \"status\"        => 1\n",
       "  \"model\"         => \"constant_current\"\n",
       "  \"connections\"   => Symbol[:a, :b, :c]\n",
       "  \"qd_ref\"        => [0.0, 0.0, 0.0]\n",
       "  \"pd_ref\"        => [0.1, 0.2, 0.3]\n",
       "  \"id\"            => :cc_d_3ph\n",
       "  \"bus\"           => :loadbus\n",
       "  \"configuration\" => \"delta\""
      ]
     },
     "execution_count": 26,
     "metadata": {},
     "output_type": "execute_result"
    }
   ],
   "source": [
    "add_load!(data_model, id=:cc_d_3ph, model=\"constant_current\", pd_ref=[0.1, 0.2, 0.3], vnom=0.230*sqrt(3),\n",
    "    bus=:loadbus, configuration=\"delta\", connections=[:a, :b, :c]\n",
    ")"
   ]
  },
  {
   "cell_type": "markdown",
   "metadata": {},
   "source": [
    "For an exponential voltage-dependency load model, you also need to specify additionally `alpha` and `beta`."
   ]
  },
  {
   "cell_type": "code",
   "execution_count": 27,
   "metadata": {},
   "outputs": [
    {
     "data": {
      "text/plain": [
       "Dict{String,Any} with 11 entries:\n",
       "  \"model\"         => \"exponential\"\n",
       "  \"connections\"   => Symbol[:a, :b, :c]\n",
       "  \"bus\"           => :loadbus\n",
       "  \"configuration\" => \"delta\"\n",
       "  \"status\"        => 1\n",
       "  \"qd_ref\"        => [0.0, 0.0, 0.0]\n",
       "  \"id\"            => :exp_d_3ph\n",
       "  \"alpha\"         => [1.9, 2.0, 2.1]\n",
       "  \"pd_ref\"        => [0.1, 0.2, 0.3]\n",
       "  \"beta\"          => [2.1, 2.0, 1.9]\n",
       "  \"vnom\"          => 0.398372"
      ]
     },
     "execution_count": 27,
     "metadata": {},
     "output_type": "execute_result"
    }
   ],
   "source": [
    "add_load!(data_model, id=:exp_d_3ph, model=\"exponential\", pd_ref=[0.1, 0.2, 0.3], vnom=0.230*sqrt(3),\n",
    "    bus=:loadbus, configuration=\"delta\", connections=[:a, :b, :c], alpha=[1.9, 2.0, 2.1], beta=[2.1, 2.0, 1.9]\n",
    ")"
   ]
  },
  {
   "cell_type": "markdown",
   "metadata": {},
   "source": [
    "### Generator"
   ]
  },
  {
   "cell_type": "code",
   "execution_count": 28,
   "metadata": {},
   "outputs": [
    {
     "data": {
      "text/plain": [
       "Dict{String,Any} with 6 entries:\n",
       "  \"cost\"          => [1.0, 0.0]\n",
       "  \"status\"        => 1\n",
       "  \"connections\"   => Symbol[:a, :b, :c, :n]\n",
       "  \"id\"            => :gen1\n",
       "  \"bus\"           => :loadbus\n",
       "  \"configuration\" => \"wye\""
      ]
     },
     "execution_count": 28,
     "metadata": {},
     "output_type": "execute_result"
    }
   ],
   "source": [
    "add_generator!(data_model, id=:gen1, cost=[1.0, 0],\n",
    "    bus=:loadbus, connections=[:a, :b, :c, :n],\n",
    ")"
   ]
  },
  {
   "cell_type": "markdown",
   "metadata": {},
   "source": [
    "### Checks\n",
    "\n",
    "Finally, we can check whether the data model is consistent. There are many built in checks to keep you from making mistakes. For example, it will check that\n",
    "- all buses and terminals you used are actually defined;\n",
    "- all required data model properties are present;\n",
    "- all properties you have defined have the right type (real, boolean, array, ...);\n",
    "- arrays and vectors have the right size (the length of the `connections` property usually implies the 'right' size);\n",
    "- more specialized checks at the component level.\n",
    "\n",
    "When you execute the following, these checks will print a descriptive error message if something is wrong. You can try this out by going back and entering something inconsistent, i.e. connecting a load to an undefined bus.\n"
   ]
  },
  {
   "cell_type": "code",
   "execution_count": null,
   "metadata": {},
   "outputs": [],
   "source": [
    "check_data_model(data_model)"
   ]
  },
  {
   "cell_type": "markdown",
   "metadata": {},
   "source": [
    "## Transform to low-level data model"
   ]
  },
  {
   "cell_type": "code",
   "execution_count": null,
   "metadata": {},
   "outputs": [],
   "source": [
    "data_model_map!(data_model)"
   ]
  },
  {
   "cell_type": "code",
   "execution_count": null,
   "metadata": {},
   "outputs": [],
   "source": [
    "data_model_make_pu!(data_model)"
   ]
  },
  {
   "cell_type": "code",
   "execution_count": null,
   "metadata": {},
   "outputs": [],
   "source": [
    "data_model_index!(data_model)"
   ]
  },
  {
   "cell_type": "code",
   "execution_count": null,
   "metadata": {},
   "outputs": [],
   "source": [
    "data_model_make_compatible_v8!(data_model)"
   ]
  },
  {
   "cell_type": "markdown",
   "metadata": {},
   "source": [
    "## Solve the low-level model"
   ]
  },
  {
   "cell_type": "code",
   "execution_count": null,
   "metadata": {},
   "outputs": [],
   "source": [
    "import PowerModels\n",
    "PMs = PowerModels\n",
    "run_mc_pf(data_model, PMs.ACPPowerModel, build_mc_opf)"
   ]
  },
  {
   "cell_type": "markdown",
   "metadata": {},
   "source": [
    "## Get high-level solution"
   ]
  },
  {
   "cell_type": "code",
   "execution_count": null,
   "metadata": {},
   "outputs": [],
   "source": [
    "solution_identify!(sol[\"solution\"])"
   ]
  },
  {
   "cell_type": "code",
   "execution_count": null,
   "metadata": {},
   "outputs": [],
   "source": [
    "solution_unmake_pu!(sol[\"solution\"])"
   ]
  },
  {
   "cell_type": "code",
   "execution_count": null,
   "metadata": {},
   "outputs": [],
   "source": [
    "solution_unmap!(sol[\"solution\"])"
   ]
  }
 ],
 "metadata": {
  "kernelspec": {
   "display_name": "Julia 1.0.5",
   "language": "julia",
   "name": "julia-1.0"
  },
  "language_info": {
   "file_extension": ".jl",
   "mimetype": "application/julia",
   "name": "julia",
   "version": "1.0.5"
  }
 },
 "nbformat": 4,
 "nbformat_minor": 4
}
